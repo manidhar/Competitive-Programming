{
 "cells": [
  {
   "cell_type": "markdown",
   "metadata": {},
   "source": [
    "# Generate all binary string"
   ]
  },
  {
   "cell_type": "markdown",
   "metadata": {},
   "source": [
    "<ul>\n",
    "<li>if n=2  ['00', '01', '10', '11']</li>\n",
    "<li> if n=3  ['000', '001', '010', '011', '100', '101', '110', '111'] </li>\n",
    "<li>if n=4  ['0000', '0001', '0010', '0011', '0100', '0101', '0110', '0111', '1000', '1001', '1010', '1011', '1100', '1101', '1110', '1111']\n",
    "</li>\n",
    "</ul>\n"
   ]
  },
  {
   "cell_type": "markdown",
   "metadata": {},
   "source": [
    "### Code reference from Kirsh Nayak video : https://www.youtube.com/watch?v=CEQ872lrExA"
   ]
  },
  {
   "cell_type": "code",
   "execution_count": 4,
   "metadata": {},
   "outputs": [],
   "source": [
    "def append_bits(X,L):\n",
    "    #print('L Value : ',L)\n",
    "    return [X+ element for element in L]\n",
    "\n",
    "def generate_bit(n):\n",
    "    #print('n Value : ',n)\n",
    "    if n==0:\n",
    "        return []\n",
    "    if n==1:\n",
    "        return ['0','1']\n",
    "    else:\n",
    "        return(append_bits(\"0\",generate_bit(n-1))+append_bits(\"1\",generate_bit(n-1)))"
   ]
  },
  {
   "cell_type": "code",
   "execution_count": 2,
   "metadata": {},
   "outputs": [
    {
     "name": "stdout",
     "output_type": "stream",
     "text": [
      "Enter an integer number greater than zero : 3\n",
      "Binary value of 3 is : ['000', '001', '010', '011', '100', '101', '110', '111']\n"
     ]
    }
   ],
   "source": [
    "n=input(\"Enter an integer number greater than zero : \")\n",
    "print('Binary value of %d is :'%int(n),generate_bit(int(n)))"
   ]
  }
 ],
 "metadata": {
  "kernelspec": {
   "display_name": "Python 3",
   "language": "python",
   "name": "python3"
  },
  "language_info": {
   "codemirror_mode": {
    "name": "ipython",
    "version": 3
   },
   "file_extension": ".py",
   "mimetype": "text/x-python",
   "name": "python",
   "nbconvert_exporter": "python",
   "pygments_lexer": "ipython3",
   "version": "3.8.5"
  }
 },
 "nbformat": 4,
 "nbformat_minor": 4
}
